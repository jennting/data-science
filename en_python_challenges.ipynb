{
  "nbformat": 4,
  "nbformat_minor": 0,
  "metadata": {
    "anaconda-cloud": {},
    "colab": {
      "name": "en-python-challenges.ipynb",
      "provenance": [],
      "collapsed_sections": [],
      "include_colab_link": true
    },
    "kernelspec": {
      "display_name": "Python 3",
      "language": "python",
      "name": "python3"
    },
    "language_info": {
      "codemirror_mode": {
        "name": "ipython",
        "version": 3
      },
      "file_extension": ".py",
      "mimetype": "text/x-python",
      "name": "python",
      "nbconvert_exporter": "python",
      "pygments_lexer": "ipython3",
      "version": "3.7.6"
    }
  },
  "cells": [
    {
      "cell_type": "markdown",
      "metadata": {
        "id": "view-in-github",
        "colab_type": "text"
      },
      "source": [
        "<a href=\"https://colab.research.google.com/github/jennting/data-science/blob/master/en_python_challenges.ipynb\" target=\"_parent\"><img src=\"https://colab.research.google.com/assets/colab-badge.svg\" alt=\"Open In Colab\"/></a>"
      ]
    },
    {
      "cell_type": "markdown",
      "metadata": {
        "colab_type": "text",
        "id": "SbLLE9q1eldC"
      },
      "source": [
        "#### **Challenge 1**\n",
        "\n",
        "Write a Python program to count the number of occurrences of each word."
      ]
    },
    {
      "cell_type": "code",
      "metadata": {
        "colab_type": "code",
        "id": "WhtbdwFseldD",
        "colab": {
          "base_uri": "https://localhost:8080/",
          "height": 34
        },
        "outputId": "76dbd5fc-4334-4812-c474-4c7ff361cb24"
      },
      "source": [
        "words = [\n",
        "   'red', 'green', 'black', 'pink', 'black', 'white', 'black', 'eyes',\n",
        "   'white', 'black', 'orange', 'pink', 'pink', 'red', 'red', 'white', 'orange',\n",
        "   'white', \"black\", 'pink', 'green', 'green', 'pink', 'green', 'pink',\n",
        "   'white', 'orange', \"orange\", 'red'\n",
        "]\n",
        "\n",
        "from collections import Counter\n",
        "counts = Counter(words)\n",
        "print(counts)"
      ],
      "execution_count": null,
      "outputs": [
        {
          "output_type": "stream",
          "text": [
            "Counter({'pink': 6, 'black': 5, 'white': 5, 'red': 4, 'green': 4, 'orange': 4, 'eyes': 1})\n"
          ],
          "name": "stdout"
        }
      ]
    },
    {
      "cell_type": "code",
      "metadata": {
        "id": "t5xs01p-94Wt",
        "colab_type": "code",
        "colab": {}
      },
      "source": [
        ""
      ],
      "execution_count": null,
      "outputs": []
    },
    {
      "cell_type": "markdown",
      "metadata": {
        "colab_type": "text",
        "id": "q1NCks7Af6JN"
      },
      "source": [
        "#### **Challenge 2**\n",
        "\n",
        "Write a function that takes an integer number of hours and converts it to seconds.\n",
        "\n",
        "Example:\n",
        "\n",
        "convert(5) ➞ 18000\n",
        "\n",
        "convert(3) ➞ 10800\n",
        "\n",
        "convert(2) ➞ 7200"
      ]
    },
    {
      "cell_type": "code",
      "metadata": {
        "id": "hO_S2uROIjMT",
        "colab_type": "code",
        "colab": {
          "base_uri": "https://localhost:8080/",
          "height": 34
        },
        "outputId": "9c1c0d40-3c27-4691-b2ee-866345f7e97e"
      },
      "source": [
        "hours = int(5)\n",
        "seconds = hours * 3600\n",
        "print(seconds, \"Seconds\")"
      ],
      "execution_count": null,
      "outputs": [
        {
          "output_type": "stream",
          "text": [
            "18000 Seconds\n"
          ],
          "name": "stdout"
        }
      ]
    },
    {
      "cell_type": "markdown",
      "metadata": {
        "colab_type": "text",
        "id": "9apVxxygf6JR"
      },
      "source": [
        "#### **Challenge 3**\n",
        "\n",
        "Write a function that receives a list and returns a new ordered list with no duplicate values.\n"
      ]
    },
    {
      "cell_type": "code",
      "metadata": {
        "id": "VmSft2HqIi26",
        "colab_type": "code",
        "colab": {
          "base_uri": "https://localhost:8080/",
          "height": 34
        },
        "outputId": "c04247a9-ef12-4fd6-8e6c-973c9583b041"
      },
      "source": [
        "mylist = [\"1\",\"2\",\"1\",\"2\",\"3\",\"4\",\"4\",\"5\"]\n",
        "mylist = list(dict.fromkeys(mylist))\n",
        "print(mylist)"
      ],
      "execution_count": null,
      "outputs": [
        {
          "output_type": "stream",
          "text": [
            "['1', '2', '3', '4', '5']\n"
          ],
          "name": "stdout"
        }
      ]
    },
    {
      "cell_type": "markdown",
      "metadata": {
        "colab_type": "text",
        "id": "dOqcKUYZf6JW"
      },
      "source": [
        "#### **Challenge 4**\n",
        "\n",
        "Write a function that takes a string as a parameter and returns another string with the words in reverse order.\n",
        "\n",
        "Example:\n",
        "\n",
        "text_inversion(\"Python is cool\") ➞ \"cool is Python\""
      ]
    },
    {
      "cell_type": "code",
      "metadata": {
        "id": "CWiZQZH5Jl0A",
        "colab_type": "code",
        "colab": {
          "base_uri": "https://localhost:8080/",
          "height": 34
        },
        "outputId": "e904b12c-d4f1-45a5-8338-9ea9cd54eeaf"
      },
      "source": [
        "text = \"I live in Brooklyn\"\n",
        "a = text.split()\n",
        "a.reverse()\n",
        "result = \" \".join(a)\n",
        "print(result)"
      ],
      "execution_count": null,
      "outputs": [
        {
          "output_type": "stream",
          "text": [
            "Brooklyn in live I\n"
          ],
          "name": "stdout"
        }
      ]
    },
    {
      "cell_type": "markdown",
      "metadata": {
        "colab_type": "text",
        "id": "gQbaWOWcW1g_"
      },
      "source": [
        "#### **Challenge 5**\n",
        "You work in a shoe store and must contact a list of customers given by the following list of phone numbers:"
      ]
    },
    {
      "cell_type": "code",
      "metadata": {
        "id": "eKJ87vvkS9QG",
        "colab_type": "code",
        "colab": {
          "base_uri": "https://localhost:8080/",
          "height": 272
        },
        "outputId": "ecf90a79-3d5e-47a7-de32-6b9924c234c3"
      },
      "source": [
        "telephone_numbers = [\n",
        "'(765) 368-1506',\n",
        "'(285) 608-2448',\n",
        "'(255) 826-9050',\n",
        "'(554) 994-1517',\n",
        "'(285) 608-2448',\n",
        "'(596) 336-5508',\n",
        "'(511) 821-7870',\n",
        "'(410) 665-4447',\n",
        "'(821) 642-8987',\n",
        "'(285) 608-2448',\n",
        "'(311) 799-3883',\n",
        "'(935) 875-2054',\n",
        "'(464) 788-2397',\n",
        "'(765) 368-1506',\n",
        "'(650) 684-1437',\n",
        "'(812) 816-0881',\n",
        "'(285) 608-2448',\n",
        "'(885) 407-1719',\n",
        "'(943) 769-1061',\n",
        "'(596) 336-5508',\n",
        "'(765) 368-1506',\n",
        "'(255) 826-9050',\n",
        "]\n",
        "\n",
        "from collections import OrderedDict\n",
        "list(OrderedDict.fromkeys(telephone_numbers))"
      ],
      "execution_count": null,
      "outputs": [
        {
          "output_type": "execute_result",
          "data": {
            "text/plain": [
              "['(765) 368-1506',\n",
              " '(285) 608-2448',\n",
              " '(255) 826-9050',\n",
              " '(554) 994-1517',\n",
              " '(596) 336-5508',\n",
              " '(511) 821-7870',\n",
              " '(410) 665-4447',\n",
              " '(821) 642-8987',\n",
              " '(311) 799-3883',\n",
              " '(935) 875-2054',\n",
              " '(464) 788-2397',\n",
              " '(650) 684-1437',\n",
              " '(812) 816-0881',\n",
              " '(885) 407-1719',\n",
              " '(943) 769-1061']"
            ]
          },
          "metadata": {
            "tags": []
          },
          "execution_count": 45
        }
      ]
    },
    {
      "cell_type": "markdown",
      "metadata": {
        "colab_type": "text",
        "id": "ryYrStScXgZ3"
      },
      "source": [
        "However, some of these numbers are duplicated. Would you be able to remove these duplicates to prevent customers from being contacted more than once?"
      ]
    },
    {
      "cell_type": "code",
      "metadata": {
        "id": "C6VV9mQFJk_A",
        "colab_type": "code",
        "colab": {}
      },
      "source": [
        ""
      ],
      "execution_count": null,
      "outputs": []
    },
    {
      "cell_type": "markdown",
      "metadata": {
        "colab_type": "text",
        "id": "AiI1_KNTf6Jh"
      },
      "source": [
        "#### **Challenge 6**\n",
        "\n",
        "\n",
        "Create a function that receives two lists and returns a list that contains only the common elements between the lists (without repetition). The function must support a list of different sizes.\n",
        "\n",
        "**Lists:**\n",
        "\n",
        "a = [1, 1, 2, 3, 5, 8, 13, 21, 34, 55, 89]\n",
        " \n",
        "b = [1, 2, 3, 4, 5, 6, 7, 8, 9, 10, 11, 12, 13]\n"
      ]
    },
    {
      "cell_type": "code",
      "metadata": {
        "id": "Z69B8cbQJkP1",
        "colab_type": "code",
        "colab": {
          "base_uri": "https://localhost:8080/",
          "height": 34
        },
        "outputId": "2f48c201-4fdf-41ce-9088-d47952af370c"
      },
      "source": [
        "a =[1, 1, 2, 3, 5, 8, 13, 21, 34, 55, 89]\n",
        "b = [1, 2, 3, 4, 5, 6, 7, 8, 9, 10, 11, 12, 13]\n",
        "\n",
        "print(set(a) & set(b))"
      ],
      "execution_count": null,
      "outputs": [
        {
          "output_type": "stream",
          "text": [
            "{1, 2, 3, 5, 8, 13}\n"
          ],
          "name": "stdout"
        }
      ]
    },
    {
      "cell_type": "markdown",
      "metadata": {
        "colab_type": "text",
        "id": "BUXOBfeFS9QU"
      },
      "source": [
        "#### **Challenge 7**\n",
        "A university professor has a class with the following phone numbers:"
      ]
    },
    {
      "cell_type": "code",
      "metadata": {
        "id": "ubSPynjVS9QU",
        "colab_type": "code",
        "colab": {}
      },
      "source": [
        "students_phones = ['(873) 810-8267', '(633) 244-7325', '(300) 303-5462', \n",
        "                    '(938) 300-8890', '(429) 264-7427', '(737) 805-2326', \n",
        "                    '(768) 956-8497', '(941) 225-3869', '(203) 606-9463', \n",
        "                    '(294) 430-7720', '(896) 781-5087', '(397) 845-8267', \n",
        "                    '(788) 717-6858', '(419) 734-4188', '(682) 595-3278', \n",
        "                    '(835) 955-1498', '(296) 415-9944', '(897) 932-2512', \n",
        "                    '(263) 415-3893', '(822) 640-8496', '(640) 427-2597', \n",
        "                    '(856) 338-7094', '(807) 554-4076', '(641) 367-5279', \n",
        "                    '(828) 866-0696', '(727) 376-5749', '(921) 948-2244', \n",
        "                    '(964) 710-9625', '(596) 685-1242', '(403) 343-7705', \n",
        "                    '(227) 389-3685', '(264) 372-7298', '(797) 649-3653', \n",
        "                    '(374) 361-3844', '(618) 490-4228', '(987) 803-5550', \n",
        "                    '(228) 976-9699', '(757) 450-9985', '(491) 666-5367',\n",
        "                    ]"
      ],
      "execution_count": null,
      "outputs": []
    },
    {
      "cell_type": "markdown",
      "metadata": {
        "colab_type": "text",
        "id": "qdv3wiftS9QW"
      },
      "source": [
        "He created a whatsapp group. However only the following numbers entered:"
      ]
    },
    {
      "cell_type": "code",
      "metadata": {
        "id": "oeoGD6UcS9QW",
        "colab_type": "code",
        "colab": {}
      },
      "source": [
        "in_the_group = ['(596) 685-1242', '(727) 376-5749', '(987) 803-5550', \n",
        "                     '(633) 244-7325', '(828) 866-0696', '(263) 415-3893', \n",
        "                     '(203) 606-9463', '(296) 415-9944', '(419) 734-4188', \n",
        "                     '(618) 490-4228', '(682) 595-3278', '(938) 300-8890', \n",
        "                     '(264) 372-7298', '(768) 956-8497', '(737) 805-2326', \n",
        "                     '(788) 717-6858', '(228) 976-9699', '(896) 781-5087',\n",
        "                     '(374) 361-3844', '(921) 948-2244', '(807) 554-4076', \n",
        "                     '(822) 640-8496', '(227) 389-3685', '(429) 264-7427', \n",
        "                     '(397) 845-8267']"
      ],
      "execution_count": null,
      "outputs": []
    },
    {
      "cell_type": "markdown",
      "metadata": {
        "colab_type": "text",
        "id": "-inLXlaxoWnC"
      },
      "source": [
        "Would you be able to create a list of students who have not yet joined the group to be contacted individually?"
      ]
    },
    {
      "cell_type": "code",
      "metadata": {
        "id": "2JbOxQMrJn7K",
        "colab_type": "code",
        "colab": {
          "base_uri": "https://localhost:8080/",
          "height": 54
        },
        "outputId": "89ca8ed5-f106-409e-de13-67ddb875a826"
      },
      "source": [
        "students_phones = ['(873) 810-8267', '(633) 244-7325', '(300) 303-5462', \n",
        "                    '(938) 300-8890', '(429) 264-7427', '(737) 805-2326', \n",
        "                    '(768) 956-8497', '(941) 225-3869', '(203) 606-9463', \n",
        "                    '(294) 430-7720', '(896) 781-5087', '(397) 845-8267', \n",
        "                    '(788) 717-6858', '(419) 734-4188', '(682) 595-3278', \n",
        "                    '(835) 955-1498', '(296) 415-9944', '(897) 932-2512', \n",
        "                    '(263) 415-3893', '(822) 640-8496', '(640) 427-2597', \n",
        "                    '(856) 338-7094', '(807) 554-4076', '(641) 367-5279', \n",
        "                    '(828) 866-0696', '(727) 376-5749', '(921) 948-2244', \n",
        "                    '(964) 710-9625', '(596) 685-1242', '(403) 343-7705', \n",
        "                    '(227) 389-3685', '(264) 372-7298', '(797) 649-3653', \n",
        "                    '(374) 361-3844', '(618) 490-4228', '(987) 803-5550', \n",
        "                    '(228) 976-9699', '(757) 450-9985', '(491) 666-5367',\n",
        "                    ]\n",
        "in_the_group = ['(596) 685-1242', '(727) 376-5749', '(987) 803-5550', \n",
        "                     '(633) 244-7325', '(828) 866-0696', '(263) 415-3893', \n",
        "                     '(203) 606-9463', '(296) 415-9944', '(419) 734-4188', \n",
        "                     '(618) 490-4228', '(682) 595-3278', '(938) 300-8890', \n",
        "                     '(264) 372-7298', '(768) 956-8497', '(737) 805-2326', \n",
        "                     '(788) 717-6858', '(228) 976-9699', '(896) 781-5087',\n",
        "                     '(374) 361-3844', '(921) 948-2244', '(807) 554-4076', \n",
        "                     '(822) 640-8496', '(227) 389-3685', '(429) 264-7427', \n",
        "                     '(397) 845-8267']\n",
        "\n",
        "call_list = set(students_phones) - set(in_the_group)\n",
        "print(call_list)\n"
      ],
      "execution_count": null,
      "outputs": [
        {
          "output_type": "stream",
          "text": [
            "{'(856) 338-7094', '(300) 303-5462', '(640) 427-2597', '(403) 343-7705', '(294) 430-7720', '(641) 367-5279', '(897) 932-2512', '(964) 710-9625', '(491) 666-5367', '(757) 450-9985', '(941) 225-3869', '(835) 955-1498', '(797) 649-3653', '(873) 810-8267'}\n"
          ],
          "name": "stdout"
        }
      ]
    },
    {
      "cell_type": "markdown",
      "metadata": {
        "colab_type": "text",
        "id": "o3tkeMDNf6Jo"
      },
      "source": [
        "#### **Challenge 8**\n",
        "\n",
        "Write a Python script to find the 10 longest words in a file. Attentinon: The TXT file is located in the same folder as the project (text.txt) if you downloaded the GitHub repository.\n"
      ]
    },
    {
      "cell_type": "code",
      "metadata": {
        "id": "mswOVA4u8w4N",
        "colab_type": "code",
        "colab": {
          "resources": {
            "http://localhost:8080/nbextensions/google.colab/files.js": {
              "data": "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",
              "ok": true,
              "headers": [
                [
                  "content-type",
                  "application/javascript"
                ]
              ],
              "status": 200,
              "status_text": ""
            }
          },
          "base_uri": "https://localhost:8080/",
          "height": 89
        },
        "outputId": "9c464b94-981d-44cb-9692-ec76bb93b7e7"
      },
      "source": [
        "from google.colab import files\n",
        "uploaded = files.upload()\n",
        "\n",
        "def longest_word(filename):\n",
        "    with open(filename, 'r') as infile:\n",
        "              words = infile.read().split()\n",
        "    max_len = len(max(words, key=len))\n",
        "    return [word for word in words if len(word) > 11]\n",
        "\n",
        "        #How do I set function to find 10 words??\n",
        "print(longest_word('text.txt'))"
      ],
      "execution_count": 28,
      "outputs": [
        {
          "output_type": "display_data",
          "data": {
            "text/html": [
              "\n",
              "     <input type=\"file\" id=\"files-de89cb45-9f59-4ca8-adf4-e94b3362d53d\" name=\"files[]\" multiple disabled\n",
              "        style=\"border:none\" />\n",
              "     <output id=\"result-de89cb45-9f59-4ca8-adf4-e94b3362d53d\">\n",
              "      Upload widget is only available when the cell has been executed in the\n",
              "      current browser session. Please rerun this cell to enable.\n",
              "      </output>\n",
              "      <script src=\"/nbextensions/google.colab/files.js\"></script> "
            ],
            "text/plain": [
              "<IPython.core.display.HTML object>"
            ]
          },
          "metadata": {
            "tags": []
          }
        },
        {
          "output_type": "stream",
          "text": [
            "Saving text.txt to text (21).txt\n",
            "['general-purpose,', 'interpreted,', 'language.Its', 'readability,', 'object-oriented,', 'comprehensive', 'intermediate)']\n"
          ],
          "name": "stdout"
        }
      ]
    },
    {
      "cell_type": "markdown",
      "metadata": {
        "colab_type": "text",
        "id": "HpvTpUBGf6Jr"
      },
      "source": [
        "#### **Challenge 9**\n",
        "\n",
        "\n",
        "Write a function that returns the sum of multiples of 3 and 5 between 0 and a limit number (parameter). For example, if the limit is 20, it will return the sum of 3, 5, 6, 9, 10, 12, 15, 18, 20.\n"
      ]
    },
    {
      "cell_type": "code",
      "metadata": {
        "id": "nFnBHN6EKqyq",
        "colab_type": "code",
        "colab": {
          "base_uri": "https://localhost:8080/",
          "height": 34
        },
        "outputId": "14e49786-9d6d-4f8f-e037-8b32f54c84ba"
      },
      "source": [
        "n = 1\n",
        "for i in range(1,50):\n",
        "    if not i % 5 or not i % 3:\n",
        "      n = n + i\n",
        "print(n)"
      ],
      "execution_count": null,
      "outputs": [
        {
          "output_type": "stream",
          "text": [
            "544\n"
          ],
          "name": "stdout"
        }
      ]
    },
    {
      "cell_type": "markdown",
      "metadata": {
        "colab_type": "text",
        "id": "a4-FLDRof6Jv"
      },
      "source": [
        "#### **Challenge 10**\n",
        "\n",
        "\n",
        "Given a list, divide it into 3 equal parts and reverse each list.\n",
        "\n",
        "Example: \n",
        "\n",
        "sampleList = [11, 45, 8, 23, 14, 12, 78, 45, 89]\n",
        "\n",
        "Part 1 [8, 45, 11]\n",
        "\n",
        "Part 2 [12, 14, 23]\n",
        "\n",
        "Part 3 [89, 45, 78]"
      ]
    },
    {
      "cell_type": "code",
      "metadata": {
        "id": "mPWw1n9VK29z",
        "colab_type": "code",
        "colab": {
          "base_uri": "https://localhost:8080/",
          "height": 68
        },
        "outputId": "2ce1000b-c3ec-4c1e-a446-22995c62b4e3"
      },
      "source": [
        "import numpy as np\n",
        "\n",
        "list_numbers = [1, 2, 3, 4, 5, 6, 7, 8, 9, 10, 11, 12]\n",
        "list_numbers.reverse()\n",
        "\n",
        "three_split = np.array_split(list_numbers, 3)\n",
        "for array in three_split:\n",
        "  print(list(array))\n",
        "\n"
      ],
      "execution_count": 52,
      "outputs": [
        {
          "output_type": "stream",
          "text": [
            "[12, 11, 10, 9]\n",
            "[8, 7, 6, 5]\n",
            "[4, 3, 2, 1]\n"
          ],
          "name": "stdout"
        }
      ]
    },
    {
      "cell_type": "markdown",
      "metadata": {
        "colab_type": "text",
        "id": "y1R0m4oWf6Jz"
      },
      "source": [
        "#### **Challenge 11**\n",
        "\n",
        "Given a sequence with `n` integers, determine how many numbers in the sequence are even and how many are odd. For example, for the sequence\n",
        "\n",
        "6   2   7  -5   8  -4\n",
        "\n",
        "the function should show 4 for the even numbers in this sequence and 2 for the odd numbers. The output must be a tuple containing first the number of even numbers and then the number of odd numbers. For the previous example, the output would be (4,2)."
      ]
    },
    {
      "cell_type": "code",
      "metadata": {
        "id": "0_FQ9j_mK4cb",
        "colab_type": "code",
        "colab": {
          "base_uri": "https://localhost:8080/",
          "height": 68
        },
        "outputId": "e14e1cc8-6b16-454e-d98a-3f9b6c4021de"
      },
      "source": [
        "list = [1, 5, 11, 21, 30, 66, 71, 99]\n",
        "\n",
        "odd_count = []\n",
        "even_count = []\n",
        "\n",
        "for num in list:\n",
        "\tif num%2 == 0:\n",
        "\t\teven_count.append(num)\n",
        "\telse:\n",
        "\t\todd_count.append(num)\n",
        "\n",
        "print(\"Even numbers:\", even_count)\n",
        "print(\"Odd numbers:\", odd_count)\n",
        "\n",
        "      #How do I make this a TUPLE?????\n",
        "even_count, odd_count = 0, 0\n",
        "for num in list:\n",
        "  if num % 2 == 0: \n",
        "        even_count += 1\n",
        "  \n",
        "  else: \n",
        "        odd_count += 1\n",
        "print(even_count, odd_count) "
      ],
      "execution_count": 93,
      "outputs": [
        {
          "output_type": "stream",
          "text": [
            "Even numbers: [30, 66]\n",
            "Odd numbers: [1, 5, 11, 21, 71, 99]\n",
            "2 6\n"
          ],
          "name": "stdout"
        }
      ]
    },
    {
      "cell_type": "markdown",
      "metadata": {
        "colab_type": "text",
        "id": "AYHY2YXQf6J2"
      },
      "source": [
        "#### **Challenge 12**\n",
        "\n",
        "Write a function in Python to check the validity of a password.\n",
        "\n",
        "Validation:\n",
        "\n",
        "* At least 1 letter between [a-z] and 1 letter between [A-Z].\n",
        "* At least 1 number between [0-9].\n",
        "* At least 1 character in [$ # @].\n",
        "* Minimum length of 6 characters.\n",
        "* Maximum length of 16 characters.\n",
        "\n",
        "Entries: \"12345678\", \"J3sus0\", \"# Te5t300\", \"J * 90j12374\", \"Michheeul\", \"Monk3y6\"\n",
        "\n",
        "The output must be the password and a text indicating whether the password is valid or invalid:\n",
        "\n",
        "```\n",
        "\"1234\" - Invalid password\n",
        "\"Qw#1234\" - Valid password\n",
        "```"
      ]
    },
    {
      "cell_type": "code",
      "metadata": {
        "id": "T4rAVQ4HLUh9",
        "colab_type": "code",
        "colab": {
          "base_uri": "https://localhost:8080/",
          "height": 51
        },
        "outputId": "3e8f3fbd-efc2-4438-f98a-f8038084ad03"
      },
      "source": [
        "import re\n",
        "p= input(\"Input your password: \")\n",
        "x = True\n",
        "while x:  \n",
        "    if (len(p)<6 or len(p)>12):\n",
        "        break\n",
        "    elif not re.search(\"[a-z]\",p):\n",
        "        break\n",
        "    elif not re.search(\"[0-9]\",p):\n",
        "        break\n",
        "    elif not re.search(\"[A-Z]\",p):\n",
        "        break\n",
        "    elif not re.search(\"[$#@]\",p):\n",
        "        break\n",
        "    elif re.search(\"\\s\",p):\n",
        "        break\n",
        "    else:\n",
        "        print(\"Valid Password\")\n",
        "        x=False\n",
        "        break\n",
        "\n",
        "if x:\n",
        "    print(\"Not a Valid Password\")\n"
      ],
      "execution_count": 100,
      "outputs": [
        {
          "output_type": "stream",
          "text": [
            "Input your password: J3sus0\n",
            "Not a Valid Password\n"
          ],
          "name": "stdout"
        }
      ]
    }
  ]
}